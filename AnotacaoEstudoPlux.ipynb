{
 "cells": [
  {
   "cell_type": "markdown",
   "metadata": {},
   "source": [
    ". Acesso a APIs Nativas\n",
    "O Xamarin Essentials oferece um conjunto de APIs comuns para acessar funcionalidades nativas do dispositivo, como GPS, câmera, acelerômetro, e muito mais. Essas APIs são multiplataforma, ou seja, funcionam em Android, iOS e Windows com o mesmo código C#.\n",
    "\n",
    "Exemplo: Obter localização GPS\n",
    "Para obter a localização do dispositivo, você pode usar a API de geolocalização do Xamarin Essentials.\n",
    "\n",
    "Passo 1: Instalar o Xamarin.Essentials Você pode instalar o pacote Xamarin.Essentials pelo NuGet no seu projeto compartilhado.\n",
    "\n",
    "Passo 2: Solicitar permissões (necessário em Android e iOS) No Android, você precisa adicionar a permissão de acesso à localização no arquivo AndroidManifest.xml:"
   ]
  },
  {
   "cell_type": "code",
   "execution_count": 2,
   "metadata": {
    "vscode": {
     "languageId": "xml"
    }
   },
   "outputs": [
    {
     "ename": "SyntaxError",
     "evalue": "invalid syntax (1316464604.py, line 1)",
     "output_type": "error",
     "traceback": [
      "\u001b[1;36m  Cell \u001b[1;32mIn[2], line 1\u001b[1;36m\u001b[0m\n\u001b[1;33m    <uses-permission android:name=\"android.permission.ACCESS_FINE_LOCATION\"/>\u001b[0m\n\u001b[1;37m    ^\u001b[0m\n\u001b[1;31mSyntaxError\u001b[0m\u001b[1;31m:\u001b[0m invalid syntax\n"
     ]
    }
   ],
   "source": [
    "<uses-permission android:name=\"android.permission.ACCESS_FINE_LOCATION\"/>"
   ]
  },
  {
   "cell_type": "markdown",
   "metadata": {},
   "source": [
    "No iOS, adicione a permissão no Info.plist:"
   ]
  },
  {
   "cell_type": "code",
   "execution_count": null,
   "metadata": {
    "vscode": {
     "languageId": "xml"
    }
   },
   "outputs": [],
   "source": [
    "<key>NSLocationWhenInUseUsageDescription</key>\n",
    "<string>Precisa de sua localização para exibir informações</string>"
   ]
  },
  {
   "cell_type": "markdown",
   "metadata": {},
   "source": [
    "Passo 3: Código para obter a localização No arquivo C# onde você deseja obter a localização, use o seguinte código:"
   ]
  },
  {
   "cell_type": "code",
   "execution_count": null,
   "metadata": {
    "vscode": {
     "languageId": "csharp"
    }
   },
   "outputs": [],
   "source": [
    "// using Xamarin.Essentials;\n",
    "using System.Threading.Tasks;\n",
    "\n",
    "public async Task GetLocation()\n",
    "{\n",
    "    try\n",
    "    {\n",
    "        var location = await Geolocation.GetLastKnownLocationAsync();\n",
    "\n",
    "        if (location != null)\n",
    "        {\n",
    "            Console.WriteLine($\"Latitude: {location.Latitude}, Longitude: {location.Longitude}\");\n",
    "        }\n",
    "        else\n",
    "        {\n",
    "            var request = new GeolocationRequest(GeolocationAccuracy.Medium);\n",
    "            location = await Geolocation.GetLocationAsync(request);\n",
    "\n",
    "            if (location != null)\n",
    "            {\n",
    "                Console.WriteLine($\"Latitude: {location.Latitude}, Longitude: {location.Longitude}\");\n",
    "            }\n",
    "        }\n",
    "    }\n",
    "    catch (FeatureNotSupportedException fnsEx)\n",
    "    {\n",
    "        // Handle not supported on device exception\n",
    "    }\n",
    "    catch (PermissionException pEx)\n",
    "    {\n",
    "        // Handle permission exception\n",
    "    }\n",
    "    catch (Exception ex)\n",
    "    {\n",
    "        // Unable to get location\n",
    "    }\n",
    "}"
   ]
  },
  {
   "cell_type": "markdown",
   "metadata": {},
   "source": [
    "2. Banco de Dados Local com SQLite\n",
    "Para armazenar dados localmente, como uma lista de tarefas ou dados do usuário, você pode usar o SQLite no Xamarin.\n",
    "\n",
    "Exemplo: Usando SQLite para armazenar dados\n",
    "Passo 1: Instalar o SQLite Adicione o pacote SQLite.Net-PCL via NuGet ao seu projeto.\n",
    "\n",
    "Passo 2: Criar um modelo de dados Vamos criar uma classe que represente os dados que queremos armazenar. Exemplo de uma classe Tarefa:"
   ]
  },
  {
   "cell_type": "code",
   "execution_count": null,
   "metadata": {
    "vscode": {
     "languageId": "csharp"
    }
   },
   "outputs": [],
   "source": [
    "using SQLite;\n",
    "\n",
    "public class Tarefa\n",
    "{\n",
    "    [PrimaryKey, AutoIncrement]\n",
    "    public int ID { get; set; }\n",
    "\n",
    "    public string Nome { get; set; }\n",
    "    public bool Concluida { get; set; }\n",
    "}\n"
   ]
  },
  {
   "cell_type": "markdown",
   "metadata": {},
   "source": [
    "Passo 3: Criar o banco de dados e as operações CRUD Agora, criamos uma classe para gerenciar as operações de banco de dados (inserir, atualizar, deletar e consultar):"
   ]
  },
  {
   "cell_type": "code",
   "execution_count": null,
   "metadata": {
    "vscode": {
     "languageId": "csharp"
    }
   },
   "outputs": [],
   "source": [
    "using SQLite;\n",
    "using System.Collections.Generic;\n",
    "using System.Threading.Tasks;\n",
    "\n",
    "public class TarefaDatabase\n",
    "{\n",
    "    readonly SQLiteAsyncConnection _database;\n",
    "\n",
    "    public TarefaDatabase(string dbPath)\n",
    "    {\n",
    "        _database = new SQLiteAsyncConnection(dbPath);\n",
    "        _database.CreateTableAsync<Tarefa>().Wait();\n",
    "    }\n",
    "\n",
    "    public Task<List<Tarefa>> GetTarefasAsync()\n",
    "    {\n",
    "        return _database.Table<Tarefa>().ToListAsync();\n",
    "    }\n",
    "\n",
    "    public Task<Tarefa> GetTarefaAsync(int id)\n",
    "    {\n",
    "        return _database.Table<Tarefa>().Where(i => i.ID == id).FirstOrDefaultAsync();\n",
    "    }\n",
    "\n",
    "    public Task<int> SaveTarefaAsync(Tarefa tarefa)\n",
    "    {\n",
    "        if (tarefa.ID != 0)\n",
    "        {\n",
    "            return _database.UpdateAsync(tarefa);\n",
    "        }\n",
    "        else\n",
    "        {\n",
    "            return _database.InsertAsync(tarefa);\n",
    "        }\n",
    "    }\n",
    "\n",
    "    public Task<int> DeleteTarefaAsync(Tarefa tarefa)\n",
    "    {\n",
    "        return _database.DeleteAsync(tarefa);\n",
    "    }\n",
    "}\n"
   ]
  },
  {
   "cell_type": "markdown",
   "metadata": {},
   "source": [
    "Passo 4: Usar o banco de dados Agora, podemos utilizar a classe TarefaDatabase para interagir com o banco de dados no nosso app."
   ]
  },
  {
   "cell_type": "code",
   "execution_count": null,
   "metadata": {
    "vscode": {
     "languageId": "csharp"
    }
   },
   "outputs": [],
   "source": [
    "var dbPath = Path.Combine(Environment.GetFolderPath(Environment.SpecialFolder.LocalApplicationData), \"Tarefas.db3\");\n",
    "var database = new TarefaDatabase(dbPath);\n",
    "\n",
    "// Adicionar uma nova tarefa\n",
    "await database.SaveTarefaAsync(new Tarefa { Nome = \"Estudar Xamarin\", Concluida = false });\n",
    "\n",
    "// Listar todas as tarefas\n",
    "var tarefas = await database.GetTarefasAsync();\n"
   ]
  },
  {
   "cell_type": "markdown",
   "metadata": {},
   "source": [
    "3. Navegação entre Páginas\n",
    "Para navegar entre diferentes telas no Xamarin.Forms, usamos o NavigationPage. Isso permite empilhar páginas e navegá-las para frente e para trás.\n",
    "\n",
    "Exemplo: Navegação simples\n",
    "Passo 1: Configurar o NavigationPage No arquivo App.xaml.cs, configure o app para usar um NavigationPage:"
   ]
  },
  {
   "cell_type": "code",
   "execution_count": null,
   "metadata": {
    "vscode": {
     "languageId": "csharp"
    }
   },
   "outputs": [],
   "source": [
    "public App()\n",
    "{\n",
    "    MainPage = new NavigationPage(new MainPage());\n",
    "}\n"
   ]
  },
  {
   "cell_type": "markdown",
   "metadata": {},
   "source": [
    "Passo 2: Navegar entre páginas Para navegar de uma página para outra, você pode usar o método PushAsync."
   ]
  },
  {
   "cell_type": "code",
   "execution_count": null,
   "metadata": {
    "vscode": {
     "languageId": "csharp"
    }
   },
   "outputs": [],
   "source": [
    "// Navegar para uma nova página\n",
    "await Navigation.PushAsync(new SegundaPagina());\n"
   ]
  },
  {
   "cell_type": "markdown",
   "metadata": {},
   "source": [
    "Na segunda página, você pode voltar à página anterior com PopAsync:"
   ]
  },
  {
   "cell_type": "code",
   "execution_count": null,
   "metadata": {
    "vscode": {
     "languageId": "csharp"
    }
   },
   "outputs": [],
   "source": [
    "// Voltar à página anterior\n",
    "await Navigation.PopAsync();"
   ]
  },
  {
   "cell_type": "markdown",
   "metadata": {},
   "source": [
    "4. Estilos e Temas\n",
    "No Xamarin.Forms, você pode aplicar estilos para melhorar a aparência do seu app e tornar o design mais consistente.\n",
    "\n",
    "Exemplo: Estilos em XAML\n",
    "No arquivo App.xaml, você pode definir um estilo que será aplicado em todas as páginas:\n",
    "\n"
   ]
  },
  {
   "cell_type": "code",
   "execution_count": null,
   "metadata": {
    "vscode": {
     "languageId": "xml"
    }
   },
   "outputs": [],
   "source": [
    "<Application xmlns=\"http://xamarin.com/schemas/2014/forms\"\n",
    "             xmlns:x=\"http://schemas.microsoft.com/winfx/2009/xaml\"\n",
    "             x:Class=\"HelloXamarin.App\">\n",
    "    <Application.Resources>\n",
    "        <ResourceDictionary>\n",
    "            <Style TargetType=\"Label\">\n",
    "                <Setter Property=\"TextColor\" Value=\"Blue\" />\n",
    "                <Setter Property=\"FontSize\" Value=\"20\" />\n",
    "            </Style>\n",
    "        </ResourceDictionary>\n",
    "    </Application.Resources>\n",
    "</Application>"
   ]
  },
  {
   "cell_type": "markdown",
   "metadata": {},
   "source": [
    "Com esse estilo, todas as Labels no aplicativo terão a cor azul e o tamanho de fonte 20.\n",
    "\n",
    "5. Consumo de APIs REST\n",
    "Você pode integrar seu app com APIs RESTful, permitindo que o app se conecte a serviços web e manipule dados remotamente.\n",
    "\n",
    "Exemplo: Fazendo uma requisição HTTP\n",
    "Você pode usar a biblioteca HttpClient para consumir uma API REST. Aqui está um exemplo simples de como buscar dados de uma API:"
   ]
  },
  {
   "cell_type": "code",
   "execution_count": null,
   "metadata": {
    "vscode": {
     "languageId": "csharp"
    }
   },
   "outputs": [],
   "source": [
    "using System.Net.Http;\n",
    "using System.Threading.Tasks;\n",
    "\n",
    "public async Task<string> GetDadosDaApi()\n",
    "{\n",
    "    HttpClient client = new HttpClient();\n",
    "    string url = \"https://api.exemplo.com/dados\";\n",
    "    var response = await client.GetStringAsync(url);\n",
    "    return response;\n",
    "}"
   ]
  }
 ],
 "metadata": {
  "kernelspec": {
   "display_name": "Python 3",
   "language": "python",
   "name": "python3"
  },
  "language_info": {
   "codemirror_mode": {
    "name": "ipython",
    "version": 3
   },
   "file_extension": ".py",
   "mimetype": "text/x-python",
   "name": "python",
   "nbconvert_exporter": "python",
   "pygments_lexer": "ipython3",
   "version": "3.11.9"
  }
 },
 "nbformat": 4,
 "nbformat_minor": 2
}
